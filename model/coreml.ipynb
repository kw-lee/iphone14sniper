{
 "cells": [
  {
   "cell_type": "code",
   "execution_count": 1,
   "metadata": {},
   "outputs": [
    {
     "name": "stderr",
     "output_type": "stream",
     "text": [
      "WARNING:root:TensorFlow version 2.9.2 has not been tested with coremltools. You may run into unexpected errors. TensorFlow 2.6.2 is the most recent version that has been tested.\n",
      "WARNING:root:Keras version 2.9.0 has not been tested with coremltools. You may run into unexpected errors. Keras 2.6.0 is the most recent version that has been tested.\n"
     ]
    }
   ],
   "source": [
    "import coremltools as ct\n",
    "from mnist import save_model, instantiate_model, load_model\n",
    "from path import tf_model_path, tf_ft_model_path, coreml_model_path\n",
    "import tensorflow as tf\n",
    "import numpy as np\n",
    "import multiprocessing as mp\n",
    "import psutil\n",
    "import time"
   ]
  },
  {
   "cell_type": "code",
   "execution_count": 2,
   "metadata": {},
   "outputs": [],
   "source": [
    "%load_ext memory_profiler"
   ]
  },
  {
   "cell_type": "code",
   "execution_count": 2,
   "metadata": {},
   "outputs": [],
   "source": [
    "# def tf_ft_model_path():\n",
    "#     return \"./static/mnist_inicis.bin\"\n",
    "\n",
    "# def coreml_model_path():\n",
    "#     return \"./static/mnist_inicis.mlpackage\""
   ]
  },
  {
   "cell_type": "code",
   "execution_count": 3,
   "metadata": {},
   "outputs": [],
   "source": [
    "model = tf.keras.models.load_model(tf_ft_model_path())"
   ]
  },
  {
   "cell_type": "code",
   "execution_count": 5,
   "metadata": {},
   "outputs": [
    {
     "name": "stderr",
     "output_type": "stream",
     "text": [
      "Running TensorFlow Graph Passes: 100%|██████████| 6/6 [00:00<00:00, 44.88 passes/s]\n",
      "Converting Frontend ==> MIL Ops: 100%|██████████| 21/21 [00:00<00:00, 679.13 ops/s]\n",
      "Running MIL Common passes: 100%|██████████| 34/34 [00:00<00:00, 2098.63 passes/s]\n",
      "Running MIL FP16ComputePrecision pass: 100%|██████████| 1/1 [00:00<00:00, 81.58 passes/s]\n",
      "Running MIL Clean up passes: 100%|██████████| 9/9 [00:00<00:00, 465.75 passes/s]\n"
     ]
    }
   ],
   "source": [
    "# inputs = tf.keras.Input((28, 28, 1), name=\"input\")\n",
    "# outputs = model(inputs)\n",
    "# core_model = tf.keras.Model(inputs, outputs)\n",
    "# core_model = ct.convert(core_model, convert_to=\"mlprogram\", source=\"TensorFlow\")\n",
    "# core_model.save(coreml_model_path())\n",
    "core_model = ct.models.MLModel(str(coreml_model_path()))"
   ]
  },
  {
   "cell_type": "code",
   "execution_count": 26,
   "metadata": {},
   "outputs": [
    {
     "name": "stdout",
     "output_type": "stream",
     "text": [
      "20.4 ms ± 514 µs per loop (mean ± std. dev. of 10 runs, 100 loops each)\n"
     ]
    }
   ],
   "source": [
    "%%timeit -n 100 -r 10\n",
    "model.predict(np.zeros((2, 28, 28, 1)), verbose=0)"
   ]
  },
  {
   "cell_type": "code",
   "execution_count": 27,
   "metadata": {},
   "outputs": [
    {
     "name": "stdout",
     "output_type": "stream",
     "text": [
      "peak memory: 481.12 MiB, increment: 0.16 MiB\n"
     ]
    }
   ],
   "source": [
    "%memit model.predict(np.zeros((2, 28, 28, 1)), verbose=0)"
   ]
  },
  {
   "cell_type": "code",
   "execution_count": 15,
   "metadata": {},
   "outputs": [
    {
     "name": "stdout",
     "output_type": "stream",
     "text": [
      "508 µs ± 28.8 µs per loop (mean ± std. dev. of 10 runs, 100 loops each)\n"
     ]
    }
   ],
   "source": [
    "%%timeit -n 100 -r 10\n",
    "core_model.predict({\"input\": np.zeros((2, 28, 28, 1))})"
   ]
  },
  {
   "cell_type": "code",
   "execution_count": 21,
   "metadata": {},
   "outputs": [
    {
     "name": "stdout",
     "output_type": "stream",
     "text": [
      "peak memory: 477.42 MiB, increment: 0.00 MiB\n"
     ]
    }
   ],
   "source": [
    "%memit core_model.predict({\"input\": np.zeros((2, 28, 28, 1))})"
   ]
  },
  {
   "cell_type": "code",
   "execution_count": null,
   "metadata": {},
   "outputs": [],
   "source": []
  }
 ],
 "metadata": {
  "kernelspec": {
   "display_name": "Python 3.9.0 ('coreml')",
   "language": "python",
   "name": "python3"
  },
  "language_info": {
   "codemirror_mode": {
    "name": "ipython",
    "version": 3
   },
   "file_extension": ".py",
   "mimetype": "text/x-python",
   "name": "python",
   "nbconvert_exporter": "python",
   "pygments_lexer": "ipython3",
   "version": "3.9.0"
  },
  "orig_nbformat": 4,
  "vscode": {
   "interpreter": {
    "hash": "9966bfd8d778e9d1cbbcb920a61020faa9ea8fc66bf5a1419bec961dda1dad21"
   }
  }
 },
 "nbformat": 4,
 "nbformat_minor": 2
}
